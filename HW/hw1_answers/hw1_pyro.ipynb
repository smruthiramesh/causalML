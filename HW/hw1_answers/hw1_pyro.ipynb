{
 "cells": [
  {
   "cell_type": "markdown",
   "metadata": {},
   "source": [
    "### 6 Switching to Pyro\n",
    "\n",
    "#### (a) Use pyro to reimplement the Bayesian network with parameter values you fitted in question 3. Use default iss values and round parameter estimates to 2 decimal places. Show source code."
   ]
  },
  {
   "cell_type": "code",
   "execution_count": 75,
   "metadata": {},
   "outputs": [],
   "source": [
    "import matplotlib.pyplot as plt\n",
    "import numpy as np\n",
    "import torch\n",
    "import pyro\n",
    "import pyro.distributions as dist\n",
    "\n",
    "pyro.set_rng_seed(101)"
   ]
  },
  {
   "cell_type": "code",
   "execution_count": 76,
   "metadata": {},
   "outputs": [],
   "source": [
    "def bn():\n",
    "    age = pyro.sample(\"A\", dist.Categorical(torch.tensor([0.36, 0.16,0.48])))\n",
    "    sex = pyro.sample(\"S\", dist.Categorical(torch.tensor([0.55, 0.45])))\n",
    "    edu_probs = torch.tensor([[[0.64,0.36],[0.84,0.16],[0.16,0.84]],[[0.72,0.28],[0.89,0.11],[0.81,0.19]]])\n",
    "    education = pyro.sample(\"E\", dist.Categorical(edu_probs[sex][age]))\n",
    "    occ_probs = torch.tensor([[0.98,0.02],[0.97,0.03]])\n",
    "    occupation = pyro.sample(\"O\", dist.Categorical(occ_probs[education]))\n",
    "    res_probs = torch.tensor([[0.72,0.28],[0.94,0.06]])\n",
    "    residence = pyro.sample(\"R\", dist.Categorical(res_probs[education]))\n",
    "    trav_probs = torch.tensor([[[0.71,0.14,0.15],[0.69,0.16,0.15]],[[0.55,0.08,0.37],[0.73,0.25,0.02]]])\n",
    "    travel = pyro.sample(\"T\", dist.Categorical(trav_probs[residence][occupation]))"
   ]
  },
  {
   "cell_type": "markdown",
   "metadata": {},
   "source": [
    "#### (b) You observe a person with a university degree. What is your prediction of this person’s means of travel? Provide either a MAP estimate or a histogram of the marginal on the variable “T”."
   ]
  },
  {
   "cell_type": "code",
   "execution_count": 77,
   "metadata": {},
   "outputs": [],
   "source": [
    "conditioned_bn1 = pyro.condition(bn, data={'E':torch.tensor(1)})"
   ]
  },
  {
   "cell_type": "code",
   "execution_count": 78,
   "metadata": {},
   "outputs": [],
   "source": [
    "posterior = pyro.infer.Importance(conditioned_bn1, num_samples=1000).run()\n",
    "marginal = pyro.infer.EmpiricalMarginal(posterior, \"T\") \n",
    "travel_samples = np.array([marginal().item() for _ in range(1000)])\n",
    "t_unique, t_counts = np.unique(travel_samples,return_counts=True)"
   ]
  },
  {
   "cell_type": "code",
   "execution_count": 79,
   "metadata": {},
   "outputs": [
    {
     "data": {
      "image/png": "[encoded data removed]",
      "text/plain": [
       "<Figure size 432x288 with 1 Axes>"
      ]
     },
     "metadata": {
      "needs_background": "light"
     },
     "output_type": "display_data"
    }
   ],
   "source": [
    "plt.xlabel(\"Travel Method\")\n",
    "plt.ylabel(\"Count\")\n",
    "plt.bar(t_unique, [t/1000 for t in t_counts]) \n",
    "plt.yticks([0.0,0.2,0.4,0.6, 0.8,1.0])\n",
    "plt.xticks(ticks=t_unique,labels=[\"Car\", \"Other\", \"Train\"])\n",
    "plt.title(\"Travel|Education=University\")\n",
    "plt.show()"
   ]
  },
  {
   "cell_type": "markdown",
   "metadata": {},
   "source": [
    "#### (c) You observe a self-employed person who lives in a big city. What is your prediction of this person’s age? Provide either a MAP estimate or a histogram of the marginal on the variable “A”."
   ]
  },
  {
   "cell_type": "code",
   "execution_count": 80,
   "metadata": {},
   "outputs": [],
   "source": [
    "conditioned_bn2 = pyro.condition(bn, data={'O':torch.tensor(1),'R':torch.tensor(0)})"
   ]
  },
  {
   "cell_type": "code",
   "execution_count": 81,
   "metadata": {},
   "outputs": [],
   "source": [
    "posterior2 = pyro.infer.Importance(conditioned_bn2, num_samples=1000).run()\n",
    "marginal2 = pyro.infer.EmpiricalMarginal(posterior2, \"A\") \n",
    "age_samples = np.array([marginal2().item() for _ in range(1000)])\n",
    "a_unique, a_counts = np.unique(age_samples,return_counts=True)"
   ]
  },
  {
   "cell_type": "code",
   "execution_count": 82,
   "metadata": {
    "scrolled": false
   },
   "outputs": [
    {
     "data": {
      "image/png": "[encoded data removed]",
      "text/plain": [
       "<Figure size 432x288 with 1 Axes>"
      ]
     },
     "metadata": {
      "needs_background": "light"
     },
     "output_type": "display_data"
    }
   ],
   "source": [
    "plt.xlabel(\"Age\")\n",
    "plt.ylabel(\"Count\")\n",
    "plt.bar(a_unique, [a*.001 for a in a_counts]) \n",
    "plt.xticks(ticks=a_unique,labels=[\"Adult\", \"Old\", \"Young\"])\n",
    "plt.yticks([0.0,0.2,0.4,0.6, 0.8,1.0])\n",
    "plt.title(\"Age|Occupation=Self-employed, Residence=Big city\");"
   ]
  }
 ],
 "metadata": {
  "kernelspec": {
   "display_name": "Python 3",
   "language": "python",
   "name": "python3"
  },
  "language_info": {
   "codemirror_mode": {
    "name": "ipython",
    "version": 3
   },
   "file_extension": ".py",
   "mimetype": "text/x-python",
   "name": "python",
   "nbconvert_exporter": "python",
   "pygments_lexer": "ipython3",
   "version": "3.7.4"
  }
 },
 "nbformat": 4,
 "nbformat_minor": 2
}
