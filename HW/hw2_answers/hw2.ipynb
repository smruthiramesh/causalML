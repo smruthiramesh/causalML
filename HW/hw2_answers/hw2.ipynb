{
 "cells": [
  {
   "cell_type": "markdown",
   "metadata": {
    "colab_type": "text",
    "id": "0SKjwNpRDrHS"
   },
   "source": [
    "## **CS7290 Causal Modeling in Machine Learning: Homework 2**"
   ]
  },
  {
   "cell_type": "code",
   "execution_count": 12,
   "metadata": {
    "colab": {
     "base_uri": "https://localhost:8080/",
     "height": 238
    },
    "colab_type": "code",
    "id": "8xv7nZaBL8cl",
    "outputId": "72f1c0a7-194a-4118-a4cc-834af9934d04"
   },
   "outputs": [
    {
     "name": "stdout",
     "output_type": "stream",
     "text": [
      "\n",
      "The downloaded binary packages are in\n",
      "\t/var/folders/lt/vyyrq6fs4f3g62dxdfflrg_40000gn/T//Rtmp7aZhPZ/downloaded_packages\n",
      "\n",
      "The downloaded binary packages are in\n",
      "\t/var/folders/lt/vyyrq6fs4f3g62dxdfflrg_40000gn/T//Rtmp7aZhPZ/downloaded_packages\n"
     ]
    },
    {
     "name": "stderr",
     "output_type": "stream",
     "text": [
      "Bioconductor version 3.10 (BiocManager 1.30.10), R 3.6.2 (2019-12-12)\n",
      "\n",
      "Installing package(s) 'Rgraphviz'\n",
      "\n"
     ]
    },
    {
     "name": "stdout",
     "output_type": "stream",
     "text": [
      "\n",
      "The downloaded binary packages are in\n",
      "\t/var/folders/lt/vyyrq6fs4f3g62dxdfflrg_40000gn/T//Rtmp7aZhPZ/downloaded_packages\n"
     ]
    },
    {
     "name": "stderr",
     "output_type": "stream",
     "text": [
      "Old packages: 'checkmate', 'cli', 'digest', 'dplyr', 'foreign', 'jsonlite',\n",
      "  'knitr', 'lattice', 'mime', 'nlme', 'nnet', 'rlang', 'rstudioapi', 'stringi',\n",
      "  'tinytex', 'uuid', 'vctrs', 'yaml'\n",
      "\n",
      "also installing the dependencies ‘colorspace’, ‘ps’, ‘plyr’, ‘farver’, ‘labeling’, ‘munsell’, ‘RColorBrewer’, ‘rematch’, ‘prettyunits’, ‘processx’, ‘generics’, ‘reshape2’, ‘DBI’, ‘gtable’, ‘lazyeval’, ‘scales’, ‘viridisLite’, ‘withr’, ‘clipr’, ‘cellranger’, ‘progress’, ‘callr’, ‘fs’, ‘whisker’, ‘lifecycle’, ‘broom’, ‘dbplyr’, ‘forcats’, ‘ggplot2’, ‘haven’, ‘hms’, ‘lubridate’, ‘modelr’, ‘readr’, ‘readxl’, ‘reprex’, ‘tidyr’\n",
      "\n",
      "\n"
     ]
    },
    {
     "name": "stdout",
     "output_type": "stream",
     "text": [
      "\n",
      "The downloaded binary packages are in\n",
      "\t/var/folders/lt/vyyrq6fs4f3g62dxdfflrg_40000gn/T//Rtmp7aZhPZ/downloaded_packages\n"
     ]
    }
   ],
   "source": [
    "#if installation of packages is requested\n",
    "\n",
    "install.packages(\"bnlearn\")\n",
    "install.packages(\"BiocManager\")\n",
    "BiocManager::install(\"Rgraphviz\")\n",
    "install.packages(\"tidyverse\")"
   ]
  },
  {
   "cell_type": "code",
   "execution_count": 6,
   "metadata": {
    "colab": {},
    "colab_type": "code",
    "id": "DqkkbpqlUA89"
   },
   "outputs": [
    {
     "name": "stderr",
     "output_type": "stream",
     "text": [
      "\n",
      "Attaching package: ‘bnlearn’\n",
      "\n",
      "\n",
      "The following object is masked from ‘package:stats’:\n",
      "\n",
      "    sigma\n",
      "\n",
      "\n",
      "Loading required package: graph\n",
      "\n",
      "Loading required package: BiocGenerics\n",
      "\n",
      "Loading required package: parallel\n",
      "\n",
      "\n",
      "Attaching package: ‘BiocGenerics’\n",
      "\n",
      "\n",
      "The following objects are masked from ‘package:parallel’:\n",
      "\n",
      "    clusterApply, clusterApplyLB, clusterCall, clusterEvalQ,\n",
      "    clusterExport, clusterMap, parApply, parCapply, parLapply,\n",
      "    parLapplyLB, parRapply, parSapply, parSapplyLB\n",
      "\n",
      "\n",
      "The following objects are masked from ‘package:bnlearn’:\n",
      "\n",
      "    path, score\n",
      "\n",
      "\n",
      "The following objects are masked from ‘package:stats’:\n",
      "\n",
      "    IQR, mad, sd, var, xtabs\n",
      "\n",
      "\n",
      "The following objects are masked from ‘package:base’:\n",
      "\n",
      "    anyDuplicated, append, as.data.frame, basename, cbind, colnames,\n",
      "    dirname, do.call, duplicated, eval, evalq, Filter, Find, get, grep,\n",
      "    grepl, intersect, is.unsorted, lapply, Map, mapply, match, mget,\n",
      "    order, paste, pmax, pmax.int, pmin, pmin.int, Position, rank,\n",
      "    rbind, Reduce, rownames, sapply, setdiff, sort, table, tapply,\n",
      "    union, unique, unsplit, which, which.max, which.min\n",
      "\n",
      "\n",
      "\n",
      "Attaching package: ‘graph’\n",
      "\n",
      "\n",
      "The following objects are masked from ‘package:bnlearn’:\n",
      "\n",
      "    degree, nodes, nodes<-\n",
      "\n",
      "\n",
      "Loading required package: grid\n",
      "\n",
      "── \u001b[1mAttaching packages\u001b[22m ─────────────────────────────────────── tidyverse 1.3.0 ──\n",
      "\n",
      "\u001b[32m✔\u001b[39m \u001b[34mggplot2\u001b[39m 3.2.1     \u001b[32m✔\u001b[39m \u001b[34mpurrr  \u001b[39m 0.3.3\n",
      "\u001b[32m✔\u001b[39m \u001b[34mtibble \u001b[39m 2.1.3     \u001b[32m✔\u001b[39m \u001b[34mdplyr  \u001b[39m 0.8.3\n",
      "\u001b[32m✔\u001b[39m \u001b[34mtidyr  \u001b[39m 1.0.2     \u001b[32m✔\u001b[39m \u001b[34mstringr\u001b[39m 1.4.0\n",
      "\u001b[32m✔\u001b[39m \u001b[34mreadr  \u001b[39m 1.3.1     \u001b[32m✔\u001b[39m \u001b[34mforcats\u001b[39m 0.5.0\n",
      "\n",
      "── \u001b[1mConflicts\u001b[22m ────────────────────────────────────────── tidyverse_conflicts() ──\n",
      "\u001b[31m✖\u001b[39m \u001b[34mstringr\u001b[39m::\u001b[32mboundary()\u001b[39m masks \u001b[34mgraph\u001b[39m::boundary()\n",
      "\u001b[31m✖\u001b[39m \u001b[34mdplyr\u001b[39m::\u001b[32mcombine()\u001b[39m    masks \u001b[34mBiocGenerics\u001b[39m::combine()\n",
      "\u001b[31m✖\u001b[39m \u001b[34mdplyr\u001b[39m::\u001b[32mfilter()\u001b[39m     masks \u001b[34mstats\u001b[39m::filter()\n",
      "\u001b[31m✖\u001b[39m \u001b[34mdplyr\u001b[39m::\u001b[32mlag()\u001b[39m        masks \u001b[34mstats\u001b[39m::lag()\n",
      "\u001b[31m✖\u001b[39m \u001b[34mggplot2\u001b[39m::\u001b[32mPosition()\u001b[39m masks \u001b[34mBiocGenerics\u001b[39m::Position(), \u001b[34mbase\u001b[39m::Position()\n",
      "\n"
     ]
    }
   ],
   "source": [
    "library(\"bnlearn\")\n",
    "library(\"Rgraphviz\")\n",
    "library(\"tidyverse\")"
   ]
  },
  {
   "cell_type": "code",
   "execution_count": 9,
   "metadata": {
    "colab": {},
    "colab_type": "code",
    "id": "o3BCmYu-aeab"
   },
   "outputs": [],
   "source": [
    "df = read.table(\"~/causalML/HW/hw2_release/survey.txt\", header=TRUE)"
   ]
  },
  {
   "cell_type": "code",
   "execution_count": 10,
   "metadata": {
    "colab": {},
    "colab_type": "code",
    "id": "kMS35gjQRxPI"
   },
   "outputs": [],
   "source": [
    "dagstring = \"[A][S][E|A:S][O|E][R|E][T|O:R]\"\n",
    "net = model2network(dagstring)"
   ]
  },
  {
   "cell_type": "code",
   "execution_count": 4,
   "metadata": {
    "colab": {
     "base_uri": "https://localhost:8080/",
     "height": 437
    },
    "colab_type": "code",
    "id": "g-K4hmm1UIQI",
    "outputId": "8fd0d81c-96cc-46b0-d085-3ee00808ee46"
   },
   "outputs": [
    {
     "data": {
      "image/png": "[encoded data removed]",
      "text/plain": [
       "plot without title"
      ]
     },
     "metadata": {
      "image/png": {
       "height": 420,
       "width": 420
      },
      "text/plain": {
       "height": 420,
       "width": 420
      }
     },
     "output_type": "display_data"
    }
   ],
   "source": [
    "graphviz.plot(net)"
   ]
  },
  {
   "cell_type": "code",
   "execution_count": 11,
   "metadata": {
    "colab": {},
    "colab_type": "code",
    "id": "FG-OJSlsUiqP"
   },
   "outputs": [],
   "source": [
    "# This is the same as the bnlearn's `dsep` function but\n",
    "# avoids some type checking which would throw errors in this homework.\n",
    "d_sep = bnlearn:::dseparation"
   ]
  },
  {
   "cell_type": "code",
   "execution_count": 12,
   "metadata": {
    "colab": {
     "base_uri": "https://localhost:8080/",
     "height": 34
    },
    "colab_type": "code",
    "id": "zh9_JIqpVCNb",
    "outputId": "ed879ddb-fa10-4226-fcbb-64dd6638f67b"
   },
   "outputs": [
    {
     "data": {
      "text/html": [
       "FALSE"
      ],
      "text/latex": [
       "FALSE"
      ],
      "text/markdown": [
       "FALSE"
      ],
      "text/plain": [
       "[1] FALSE"
      ]
     },
     "metadata": {},
     "output_type": "display_data"
    }
   ],
   "source": [
    "d_sep(bn = net, x = 'A', y = 'E', z = c('R', 'T'))"
   ]
  },
  {
   "cell_type": "code",
   "execution_count": 13,
   "metadata": {
    "colab": {
     "base_uri": "https://localhost:8080/",
     "height": 113
    },
    "colab_type": "code",
    "id": "ueH3ayxRiZ8C",
    "outputId": "33fc5227-e8c2-4a80-9573-e72a8cfdf54d"
   },
   "outputs": [
    {
     "data": {
      "text/html": [
       "<ol>\n",
       "\t<li>'A'</li>\n",
       "\t<li>'E'</li>\n",
       "\t<li>5</li>\n",
       "\t<li>4</li>\n",
       "</ol>\n"
      ],
      "text/latex": [
       "\\begin{enumerate}\n",
       "\\item 'A'\n",
       "\\item 'E'\n",
       "\\item 5\n",
       "\\item 4\n",
       "\\end{enumerate}\n"
      ],
      "text/markdown": [
       "1. 'A'\n",
       "2. 'E'\n",
       "3. 5\n",
       "4. 4\n",
       "\n",
       "\n"
      ],
      "text/plain": [
       "[[1]]\n",
       "[1] \"A\"\n",
       "\n",
       "[[2]]\n",
       "[1] \"E\"\n",
       "\n",
       "[[3]]\n",
       "[1] 5\n",
       "\n",
       "[[4]]\n",
       "[1] 4\n"
      ]
     },
     "metadata": {},
     "output_type": "display_data"
    }
   ],
   "source": [
    "append(list('A','E'), list(5,4))"
   ]
  },
  {
   "cell_type": "code",
   "execution_count": 14,
   "metadata": {
    "colab": {},
    "colab_type": "code",
    "id": "yeIAPzsSWb5A"
   },
   "outputs": [],
   "source": [
    "vars = nodes(net)\n",
    "pairs = combn(x = vars, 2, list)\n",
    "arg_sets = list()\n",
    "for(pair in pairs){\n",
    "others = setdiff(vars, pair)\n",
    "conditioning_sets = unlist(lapply(0:4, function(.x) combn(others, .x, list)), recursive = F)\n",
    "for(set in conditioning_sets){\n",
    "args = list(x = pair[1], y = pair[2], z = set)\n",
    "arg_sets = c(arg_sets, list(args))\n",
    "}\n",
    "}"
   ]
  },
  {
   "cell_type": "markdown",
   "metadata": {
    "colab_type": "text",
    "id": "XLusD2GcdJtn"
   },
   "source": [
    "### **Question 1: D-separation and global Markov property assumption**"
   ]
  },
  {
   "cell_type": "markdown",
   "metadata": {
    "colab_type": "text",
    "id": "L1gyGaiLdYbU"
   },
   "source": [
    "**1.a True d-separation statements (4 points)**\n",
    "\n",
    "Create a new list. Iterate through the list of argument sets and evaluate if the d-separation statement is\n",
    "true. If a statement is true, add it to the list. Show code. Print an element from the list and write out the\n",
    "d-separation statement in English."
   ]
  },
  {
   "cell_type": "code",
   "execution_count": 15,
   "metadata": {
    "colab": {},
    "colab_type": "code",
    "id": "Pad3Vhgza13t"
   },
   "outputs": [],
   "source": [
    "true_sep = list()\n",
    "for(arg_set in arg_sets){\n",
    "  if(isTRUE(d_sep(bn=net, x=arg_set$x, y=arg_set$y, z=arg_set$z))){\n",
    "    true_sep = append(true_sep,list(arg_set))\n",
    "  }\n",
    "}"
   ]
  },
  {
   "cell_type": "code",
   "execution_count": 16,
   "metadata": {
    "colab": {
     "base_uri": "https://localhost:8080/",
     "height": 147
    },
    "colab_type": "code",
    "id": "MO_-_ZqSazXU",
    "outputId": "3cae0828-718e-4f34-a5b1-f791005024ca"
   },
   "outputs": [
    {
     "data": {
      "text/html": [
       "<ol>\n",
       "\t<li><dl>\n",
       "\t<dt>$x</dt>\n",
       "\t\t<dd>'A'</dd>\n",
       "\t<dt>$y</dt>\n",
       "\t\t<dd>'O'</dd>\n",
       "\t<dt>$z</dt>\n",
       "\t\t<dd><style>\n",
       ".list-inline {list-style: none; margin:0; padding: 0}\n",
       ".list-inline>li {display: inline-block}\n",
       ".list-inline>li:not(:last-child)::after {content: \"\\00b7\"; padding: 0 .5ex}\n",
       "</style>\n",
       "<ol class=list-inline><li>'E'</li><li>'T'</li></ol>\n",
       "</dd>\n",
       "</dl>\n",
       "</li>\n",
       "</ol>\n"
      ],
      "text/latex": [
       "\\begin{enumerate}\n",
       "\\item \\begin{description}\n",
       "\\item[\\$x] 'A'\n",
       "\\item[\\$y] 'O'\n",
       "\\item[\\$z] \\begin{enumerate*}\n",
       "\\item 'E'\n",
       "\\item 'T'\n",
       "\\end{enumerate*}\n",
       "\n",
       "\\end{description}\n",
       "\n",
       "\\end{enumerate}\n"
      ],
      "text/markdown": [
       "1. $x\n",
       ":   'A'\n",
       "$y\n",
       ":   'O'\n",
       "$z\n",
       ":   1. 'E'\n",
       "2. 'T'\n",
       "\n",
       "\n",
       "\n",
       "\n",
       "\n",
       "\n",
       "\n",
       "\n"
      ],
      "text/plain": [
       "[[1]]\n",
       "[[1]]$x\n",
       "[1] \"A\"\n",
       "\n",
       "[[1]]$y\n",
       "[1] \"O\"\n",
       "\n",
       "[[1]]$z\n",
       "[1] \"E\" \"T\"\n",
       "\n"
      ]
     },
     "metadata": {},
     "output_type": "display_data"
    }
   ],
   "source": [
    "true_sep[4]"
   ]
  },
  {
   "cell_type": "markdown",
   "metadata": {
    "colab_type": "text",
    "id": "JAJtowMTjeXo"
   },
   "source": [
    "> This says that A is d-separated from O, given E and T."
   ]
  },
  {
   "cell_type": "markdown",
   "metadata": {
    "colab_type": "text",
    "id": "34U7VjS1jqUw"
   },
   "source": [
    "**1.b Redundant d-separation statements (3 points)**\n",
    "\n",
    "Given two d-separation statements A and B, if A implies B, then we can say B is a redundant statement.\n",
    "This list is going to have some redundant statements. Print out an example of two elements in the list, where\n",
    "one one element implies other element. Write both of them out as d-separation statements, and explain the\n",
    "redundancy in plain English."
   ]
  },
  {
   "cell_type": "code",
   "execution_count": 17,
   "metadata": {
    "colab": {
     "base_uri": "https://localhost:8080/",
     "height": 147
    },
    "colab_type": "code",
    "id": "KaW2wyeFWkbW",
    "outputId": "79b21b35-982a-4fde-ea19-98748480895e"
   },
   "outputs": [
    {
     "data": {
      "text/html": [
       "<ol>\n",
       "\t<li><dl>\n",
       "\t<dt>$x</dt>\n",
       "\t\t<dd>'A'</dd>\n",
       "\t<dt>$y</dt>\n",
       "\t\t<dd>'O'</dd>\n",
       "\t<dt>$z</dt>\n",
       "\t\t<dd>'E'</dd>\n",
       "</dl>\n",
       "</li>\n",
       "</ol>\n"
      ],
      "text/latex": [
       "\\begin{enumerate}\n",
       "\\item \\begin{description}\n",
       "\\item[\\$x] 'A'\n",
       "\\item[\\$y] 'O'\n",
       "\\item[\\$z] 'E'\n",
       "\\end{description}\n",
       "\n",
       "\\end{enumerate}\n"
      ],
      "text/markdown": [
       "1. $x\n",
       ":   'A'\n",
       "$y\n",
       ":   'O'\n",
       "$z\n",
       ":   'E'\n",
       "\n",
       "\n",
       "\n",
       "\n",
       "\n"
      ],
      "text/plain": [
       "[[1]]\n",
       "[[1]]$x\n",
       "[1] \"A\"\n",
       "\n",
       "[[1]]$y\n",
       "[1] \"O\"\n",
       "\n",
       "[[1]]$z\n",
       "[1] \"E\"\n",
       "\n"
      ]
     },
     "metadata": {},
     "output_type": "display_data"
    }
   ],
   "source": [
    "true_sep[1]"
   ]
  },
  {
   "cell_type": "code",
   "execution_count": 18,
   "metadata": {
    "colab": {
     "base_uri": "https://localhost:8080/",
     "height": 147
    },
    "colab_type": "code",
    "id": "Ob3EI-gbkTnK",
    "outputId": "89f7dd5f-930f-403c-e952-b86f590be109"
   },
   "outputs": [
    {
     "data": {
      "text/html": [
       "<ol>\n",
       "\t<li><dl>\n",
       "\t<dt>$x</dt>\n",
       "\t\t<dd>'A'</dd>\n",
       "\t<dt>$y</dt>\n",
       "\t\t<dd>'O'</dd>\n",
       "\t<dt>$z</dt>\n",
       "\t\t<dd><style>\n",
       ".list-inline {list-style: none; margin:0; padding: 0}\n",
       ".list-inline>li {display: inline-block}\n",
       ".list-inline>li:not(:last-child)::after {content: \"\\00b7\"; padding: 0 .5ex}\n",
       "</style>\n",
       "<ol class=list-inline><li>'E'</li><li>'R'</li></ol>\n",
       "</dd>\n",
       "</dl>\n",
       "</li>\n",
       "</ol>\n"
      ],
      "text/latex": [
       "\\begin{enumerate}\n",
       "\\item \\begin{description}\n",
       "\\item[\\$x] 'A'\n",
       "\\item[\\$y] 'O'\n",
       "\\item[\\$z] \\begin{enumerate*}\n",
       "\\item 'E'\n",
       "\\item 'R'\n",
       "\\end{enumerate*}\n",
       "\n",
       "\\end{description}\n",
       "\n",
       "\\end{enumerate}\n"
      ],
      "text/markdown": [
       "1. $x\n",
       ":   'A'\n",
       "$y\n",
       ":   'O'\n",
       "$z\n",
       ":   1. 'E'\n",
       "2. 'R'\n",
       "\n",
       "\n",
       "\n",
       "\n",
       "\n",
       "\n",
       "\n",
       "\n"
      ],
      "text/plain": [
       "[[1]]\n",
       "[[1]]$x\n",
       "[1] \"A\"\n",
       "\n",
       "[[1]]$y\n",
       "[1] \"O\"\n",
       "\n",
       "[[1]]$z\n",
       "[1] \"E\" \"R\"\n",
       "\n"
      ]
     },
     "metadata": {},
     "output_type": "display_data"
    }
   ],
   "source": [
    "true_sep[2]"
   ]
  },
  {
   "cell_type": "markdown",
   "metadata": {
    "colab_type": "text",
    "id": "pnGCDtzwnnhC"
   },
   "source": [
    "> Statement 1: $ A \\perp O | E $ ;\n",
    "> Statement 2: $ A \\perp O | E, R$   \n",
    "> Statement 1 says A is d-separated from O given E. Since E blocks the path between A and O to begin with, adding node R to the set we condition on does not change the conditional independence given in statement 1.\n",
    "\n",
    "\n"
   ]
  },
  {
   "cell_type": "markdown",
   "metadata": {
    "colab_type": "text",
    "id": "UTxEkeR4poJC"
   },
   "source": [
    "**1.c Improve the brute-force algorithm for finding true d-separation statements (1 point)**\n",
    "\n",
    "Based on this understanding of redundancy, how could this algorithm for finding true d-separation statements\n",
    "be made more efficient?"
   ]
  },
  {
   "cell_type": "markdown",
   "metadata": {
    "colab_type": "text",
    "id": "NVtJLeUWrfgR"
   },
   "source": [
    "> To make this algorithm more efficient, we could try and build the minimum conditioning set for each pair of variables. To do this, we could try finding one node that satisfies the d-separation criteria for each pair. Then we look at the pairs that don't have a conditioning set, and look at combinations of two nodes as a conditioning set, and move on to three if that doesn't work, and so on."
   ]
  },
  {
   "cell_type": "markdown",
   "metadata": {
    "colab_type": "text",
    "id": "wrWkv2tRCYu3"
   },
   "source": [
    "**1.d Conditional independence test on true d-separation statements (4 points)**"
   ]
  },
  {
   "cell_type": "markdown",
   "metadata": {
    "colab_type": "text",
    "id": "D_TqnaDMf8IE"
   },
   "source": [
    "Evaluate the global Markov property assumption by doing a conditional independence test for each true d-separation statement. Print any test results where the p-value is not greater than .05."
   ]
  },
  {
   "cell_type": "code",
   "execution_count": 19,
   "metadata": {
    "colab": {
     "base_uri": "https://localhost:8080/",
     "height": 782
    },
    "colab_type": "code",
    "id": "-ISHBqm3kzJv",
    "outputId": "3f680034-156e-44ab-e291-eb17a332e525"
   },
   "outputs": [
    {
     "name": "stdout",
     "output_type": "stream",
     "text": [
      "\n",
      "\tMutual Information (disc.)\n",
      "\n",
      "data:  A ~ O | E + S\n",
      "mi = 17.471, df = 8, p-value = 0.02556\n",
      "alternative hypothesis: true value is greater than 0\n",
      "\n",
      "\n",
      "\tMutual Information (disc.)\n",
      "\n",
      "data:  A ~ R | E + O\n",
      "mi = 16.029, df = 8, p-value = 0.04197\n",
      "alternative hypothesis: true value is greater than 0\n",
      "\n",
      "\n",
      "\tMutual Information (disc.)\n",
      "\n",
      "data:  O ~ S | A + E\n",
      "mi = 13.244, df = 6, p-value = 0.03932\n",
      "alternative hypothesis: true value is greater than 0\n",
      "\n",
      "\n",
      "\tMutual Information (disc.)\n",
      "\n",
      "data:  O ~ S | E + T\n",
      "mi = 14.202, df = 6, p-value = 0.02746\n",
      "alternative hypothesis: true value is greater than 0\n",
      "\n",
      "\n",
      "\tMutual Information (disc.)\n",
      "\n",
      "data:  S ~ T | E + O\n",
      "mi = 17.334, df = 8, p-value = 0.02681\n",
      "alternative hypothesis: true value is greater than 0\n",
      "\n"
     ]
    }
   ],
   "source": [
    "for(i in true_sep){\n",
    "  if(ci.test(i$x,i$y,i$z,df)$p.value < 0.05){\n",
    "    print(ci.test(i$x,i$y,i$z,df))\n",
    "  }\n",
    "}"
   ]
  },
  {
   "cell_type": "markdown",
   "metadata": {
    "colab_type": "text",
    "id": "VcVTyLCPozI1"
   },
   "source": [
    "**1.e Conditional independest test and non-redundant d-separation statements (1 point plus 2 points extra credit)**\n",
    "\n",
    "What is apparent about these these printed statements with respect to whether or not the statement is redundant?\n",
    "\n"
   ]
  },
  {
   "cell_type": "markdown",
   "metadata": {
    "colab_type": "text",
    "id": "upgj1MH9p39N"
   },
   "source": [
    "> All of these printed statements are redundant statements - they add nodes to the minimum conditioning set required between a pair of nodes to prove d-separation."
   ]
  },
  {
   "cell_type": "markdown",
   "metadata": {
    "colab_type": "text",
    "id": "TXYiKd3KpxE9"
   },
   "source": [
    "Extra credit (ask a statistician): Why might this issue with redundant statements be happening?"
   ]
  },
  {
   "cell_type": "markdown",
   "metadata": {
    "colab_type": "text",
    "id": "ytjCKli8NecJ"
   },
   "source": [
    "> Perphaps these redundant statements don't satisfy a conditional independence assumption because adding additional variables has the same effect as overfitting on a regression model. \n",
    "> \n",
    ">For example: given E, knowing about T doesn't give us any extra information about S. However, if we also add O into the mix, we might be getting enough data to learn more about the noise of S from this combination of variables. In essence, this is overfitting and will not generalize as well."
   ]
  },
  {
   "cell_type": "markdown",
   "metadata": {
    "colab_type": "text",
    "id": "qola_rsEPB1O"
   },
   "source": [
    "### **Question 2: Faithfulness assumption**"
   ]
  },
  {
   "cell_type": "markdown",
   "metadata": {
    "colab_type": "text",
    "id": "VvBsuGVlPTZ_"
   },
   "source": [
    "**2.a True conditional independence statements (4 points)**\n",
    "\n",
    "A joint distribution $P_X$ is **faithful** to DAG $G$ if $A ⊥_{P_X} B|C ⇒ A ⊥_G B|C$ for all disjoint vertex set $A, B, C$. In other words, every true conditional independence statement about the joint distribution corresponds to a true d-separation statement in the DAG. Iterate through the arg_sets list again, run the conditional independence test for each argument set, creating a new list of sets where you conclude the conditional independence statement is true.\n"
   ]
  },
  {
   "cell_type": "code",
   "execution_count": 20,
   "metadata": {
    "colab": {},
    "colab_type": "code",
    "id": "gT7uYqUgeJL3"
   },
   "outputs": [],
   "source": [
    "true_ci = list()\n",
    "for(arg_set in arg_sets){\n",
    "    if(ci.test(arg_set$x,arg_set$y,arg_set$z,df)$p.value >= 0.05){\n",
    "      true_ci = append(true_ci, list(arg_set))\n",
    "    }\n",
    "  }"
   ]
  },
  {
   "cell_type": "markdown",
   "metadata": {
    "colab_type": "text",
    "id": "8ICDl0d-Sq15"
   },
   "source": [
    "**2.b True conditional inpdendence statements among true d-separation statements (1 point)**\n",
    "\n",
    "Combine that analysis with the analysis from previous questions. What is the proportion of true D-separation statements that are also true conditional independence statements?"
   ]
  },
  {
   "cell_type": "code",
   "execution_count": 21,
   "metadata": {
    "colab": {
     "base_uri": "https://localhost:8080/",
     "height": 34
    },
    "colab_type": "code",
    "id": "C0Ob9P-9SfRP",
    "outputId": "cabcf926-693f-4022-9913-2e02c9f929d8",
    "scrolled": true
   },
   "outputs": [
    {
     "name": "stdout",
     "output_type": "stream",
     "text": [
      "[1] 91.80328\n"
     ]
    }
   ],
   "source": [
    "i = 0\n",
    "for(sep in true_sep){\n",
    "  if(list(sep) %in% true_ci){\n",
    "    i = i +1\n",
    "  }\n",
    "}\n",
    "\n",
    "print(i/length(true_sep)*100)"
   ]
  },
  {
   "cell_type": "markdown",
   "metadata": {
    "colab_type": "text",
    "id": "ParDy2nR9Z4p"
   },
   "source": [
    "> Looks like 91% of true separation statements tend to be true conditional statements, which is a high proprtion. Only occasionally does redundancy pose a problem to conditional independence. So d-separation statements are a fairly reliable mechanism to help us identify conditonal independence statements."
   ]
  },
  {
   "cell_type": "markdown",
   "metadata": {},
   "source": [
    "#### 2.c True d-separation statements among true conditional inpdendence statements (1 point)\n",
    "What is the proportion of true conditional independence statements that are also true-deseparation statements?"
   ]
  },
  {
   "cell_type": "code",
   "execution_count": 22,
   "metadata": {},
   "outputs": [
    {
     "name": "stdout",
     "output_type": "stream",
     "text": [
      "[1] 0.3353293\n"
     ]
    }
   ],
   "source": [
    "i = 0\n",
    "for(ci in true_ci){\n",
    "    if(list(ci) %in% true_sep){\n",
    "        i=i+1 \n",
    "    }\n",
    "}\n",
    "print(i/length(true_ci))"
   ]
  },
  {
   "cell_type": "markdown",
   "metadata": {
    "colab_type": "text",
    "id": "193OpV-R-Tq4"
   },
   "source": [
    "**2.d Results of non-redundant d-separation statements (1 point)**\n",
    "\n",
    "How would these results change if we only considered non-redundant d-separation statements?\n"
   ]
  },
  {
   "cell_type": "markdown",
   "metadata": {
    "colab_type": "text",
    "id": "OyCqmznn-ZLs"
   },
   "source": [
    "> It is likely that 100% of non-redundant d-separation statements would hold good as conditional independence assumptions (assuming a correct causal model)."
   ]
  },
  {
   "cell_type": "markdown",
   "metadata": {
    "colab_type": "text",
    "id": "ufS5bVua_bjZ"
   },
   "source": [
    "**2.e Conclusion (1 point)**\n",
    "\n",
    "Based on these results, how well do the faithfulness assumption and global Markov property assumption hold up with this DAG and dataset?"
   ]
  },
  {
   "cell_type": "markdown",
   "metadata": {
    "colab_type": "text",
    "id": "RoLfrqOs_4KT"
   },
   "source": [
    "> Based on these results, the global Markov property holds up well, but the faithfulness assumption does not. Which means our DAG structure is valid to a good degree, but has not captured all the conditional independence relations that exist in the data."
   ]
  },
  {
   "cell_type": "markdown",
   "metadata": {
    "colab_type": "text",
    "id": "FWMgi7zaAePt"
   },
   "source": [
    "### Question 3: Interventions as graph mutilation"
   ]
  },
  {
   "cell_type": "code",
   "execution_count": 23,
   "metadata": {
    "colab": {
     "base_uri": "https://localhost:8080/",
     "height": 437
    },
    "colab_type": "code",
    "id": "pkW4EUiO9R8R",
    "outputId": "cf219d66-1bd9-4cea-968f-bf56e7af508f"
   },
   "outputs": [
    {
     "data": {
      "image/png": "[encoded data removed]",
      "text/plain": [
       "plot without title"
      ]
     },
     "metadata": {
      "image/png": {
       "height": 420,
       "width": 420
      },
      "text/plain": {
       "height": 420,
       "width": 420
      }
     },
     "output_type": "display_data"
    }
   ],
   "source": [
    "net = model2network('[A][B|A][C|B:A]')\n",
    "nombres = c('off', 'on')\n",
    "cptA = matrix(c(0.5, 0.5), ncol=2)\n",
    "dimnames(cptA) = list(NULL, nombres)\n",
    "cptB = matrix(c(.8, .2, .1, .9), ncol=2)\n",
    "dimnames(cptB) = list(B = nombres, A = nombres)\n",
    "cptC = matrix(c(.9, .1, .99, .01, .1, .9, .4, .6)) \n",
    "dim(cptC) = c(2, 2, 2)\n",
    "dimnames(cptC) = list(C = nombres, A = nombres, B = nombres)\n",
    "model = custom.fit(net, list(A = cptA, B = cptB, C = cptC))\n",
    "graphviz.plot(model)"
   ]
  },
  {
   "cell_type": "markdown",
   "metadata": {
    "colab_type": "text",
    "id": "O3c7jqM_ga0S"
   },
   "source": [
    "**3.a (3 points)**\n",
    "\n",
    "Given this model, use Baye’s rule to calculate by hand P (A = on | B = on, C = on). Show work. "
   ]
  },
  {
   "cell_type": "markdown",
   "metadata": {
    "colab_type": "text",
    "id": "udCZQmNQgj44"
   },
   "source": [
    "> $P(A = on|B = on, C = on) = \\frac{P(A = on, B = on, C = on)}{P(B = on, C = on)}\\\\\n",
    "= \\frac{P(A = on)P(B = on|A = on)P(C = on|A = on, B = on)}{\\sum_A P(A)P(B = on|A)P(C = on|A, B = on)}\\\\\n",
    "= \\frac{0.5*0.9*0.6}{(0.5*0.9*0.6)+(0.5*0.2*0.9)}\\\\\n",
    "= \\frac{0.27}{0.36}\\\\\n",
    "= 0.75 $\n",
    "\n",
    "> Printing out CPTs to help calculation"
   ]
  },
  {
   "cell_type": "code",
   "execution_count": 59,
   "metadata": {
    "colab": {
     "base_uri": "https://localhost:8080/",
     "height": 595
    },
    "colab_type": "code",
    "id": "Tynvg4HODP1X",
    "outputId": "0321524b-899a-46a9-b862-981b5148d9d6"
   },
   "outputs": [
    {
     "data": {
      "text/plain": [
       "\n",
       "  Parameters of node A (multinomial distribution)\n",
       "\n",
       "Conditional probability table:\n",
       " \n",
       "off  on \n",
       "0.5 0.5 "
      ]
     },
     "metadata": {},
     "output_type": "display_data"
    },
    {
     "data": {
      "text/plain": [
       "\n",
       "  Parameters of node B (multinomial distribution)\n",
       "\n",
       "Conditional probability table:\n",
       " \n",
       "     A\n",
       "B     off  on\n",
       "  off 0.8 0.1\n",
       "  on  0.2 0.9"
      ]
     },
     "metadata": {},
     "output_type": "display_data"
    },
    {
     "data": {
      "text/plain": [
       "\n",
       "  Parameters of node C (multinomial distribution)\n",
       "\n",
       "Conditional probability table:\n",
       " \n",
       ", , B = off\n",
       "\n",
       "     A\n",
       "C      off   on\n",
       "  off 0.90 0.99\n",
       "  on  0.10 0.01\n",
       "\n",
       ", , B = on\n",
       "\n",
       "     A\n",
       "C      off   on\n",
       "  off 0.10 0.40\n",
       "  on  0.90 0.60\n"
      ]
     },
     "metadata": {},
     "output_type": "display_data"
    }
   ],
   "source": [
    "model$A\n",
    "model$B\n",
    "model$C"
   ]
  },
  {
   "cell_type": "markdown",
   "metadata": {
    "colab_type": "text",
    "id": "fZDjUJHInXhO"
   },
   "source": [
    "**3.b (3 points)**\n",
    "\n",
    "Estimate this probability using a rejection sampling inference algorithm. To do this, use the rbn function in bnlearn (use ?rbn to learn about it) to create a dataframe with a large number of sampled values from the model. Remove the rows where B and C are not both ‘on’. Estimate the P(A = on | B = on,C = on) as the proportion of rows where A == ‘on’. (Pro tip: Try the filter function in the package dplyr)."
   ]
  },
  {
   "cell_type": "code",
   "execution_count": 25,
   "metadata": {
    "colab": {},
    "colab_type": "code",
    "id": "-NlflyCPnXHN"
   },
   "outputs": [
    {
     "data": {
      "text/html": [
       "0.751677852348993"
      ],
      "text/latex": [
       "0.751677852348993"
      ],
      "text/markdown": [
       "0.751677852348993"
      ],
      "text/plain": [
       "[1] 0.7516779"
      ]
     },
     "metadata": {},
     "output_type": "display_data"
    }
   ],
   "source": [
    "newdf = rbn(model, n=2000) %>% filter(B=='on' & C=='on') \n",
    "nrow(filter(newdf, A=='on'))/nrow(newdf)"
   ]
  },
  {
   "cell_type": "markdown",
   "metadata": {},
   "source": [
    "#### 3.c (1 point)\n",
    "\n",
    "Use mutilated to create a new graph under the intervention do(B = on). Plot the new graph."
   ]
  },
  {
   "cell_type": "code",
   "execution_count": 28,
   "metadata": {},
   "outputs": [
    {
     "data": {
      "image/png": "[encoded data removed]",
      "text/plain": [
       "plot without title"
      ]
     },
     "metadata": {
      "image/png": {
       "height": 420,
       "width": 420
      },
      "text/plain": {
       "height": 420,
       "width": 420
      }
     },
     "output_type": "display_data"
    }
   ],
   "source": [
    "mutilated_model = mutilated(model, evidence = list(B=\"on\"))\n",
    "graphviz.plot(mutilated_model)"
   ]
  },
  {
   "cell_type": "markdown",
   "metadata": {},
   "source": [
    "#### 3.d (3 points)\n",
    "As in problem 3.1, use Baye’s rule to calculate by hand P (A = on | do(B = on), C = on). Show work."
   ]
  },
  {
   "cell_type": "markdown",
   "metadata": {},
   "source": [
    "> $P(A = on|do(B = on), C = on) = \\frac{P(A = on, B = on, C = on)}{P(B = on, C = on)}\\\\\n",
    "= \\frac{P(A = on)P(B = on|A = on)P(C = on|A = on, B = on)}{\\sum_A P(A)P(B = on|A)P(C = on|A, B = on)}\\\\\n",
    "= \\frac{0.5*1*0.6}{(0.5*1*0.6)+(0.5*1*0.9)}\\\\\n",
    "= \\frac{0.3}{0.75}\\\\\n",
    "= 0.4 $"
   ]
  },
  {
   "cell_type": "markdown",
   "metadata": {},
   "source": [
    "#### 3.e (2 points)\n",
    "Use the rejection sampling inference procedure you used to estimate P (A = on | B = on, C = on) to now estimate P(A = on | do(B = on),C = on)."
   ]
  },
  {
   "cell_type": "code",
   "execution_count": 29,
   "metadata": {},
   "outputs": [
    {
     "data": {
      "text/html": [
       "0.403755868544601"
      ],
      "text/latex": [
       "0.403755868544601"
      ],
      "text/markdown": [
       "0.403755868544601"
      ],
      "text/plain": [
       "[1] 0.4037559"
      ]
     },
     "metadata": {},
     "output_type": "display_data"
    }
   ],
   "source": [
    "newdf1 = rbn(mutilated_model, n=2000) %>% filter(C=='on')\n",
    "(newdf1 %>% filter(A=='on') %>% nrow)/(newdf1 %>% nrow)"
   ]
  },
  {
   "cell_type": "markdown",
   "metadata": {},
   "source": [
    "#### 4.h (6 points)\n",
    "\n",
    "Implement this model in pyro. Then calculate P(A = on | B = on,C = on) and P(A = on | do(B = on), C = on) use the condition and do operators and an inference algorthm."
   ]
  },
  {
   "cell_type": "code",
   "execution_count": 43,
   "metadata": {
    "colab": {},
    "colab_type": "code",
    "id": "SniuirEijjhh"
   },
   "outputs": [],
   "source": [
    "#Pyro imports\n",
    "\n",
    "import matplotlib.pyplot as plt\n",
    "import numpy as np\n",
    "import torch\n",
    "import pyro\n",
    "import pyro.distributions as dist\n",
    "\n",
    "pyro.set_rng_seed(101)"
   ]
  },
  {
   "cell_type": "code",
   "execution_count": 44,
   "metadata": {},
   "outputs": [],
   "source": [
    "#Creating model\n",
    "\n",
    "def bn():\n",
    "    A = pyro.sample(\"A\", dist.Categorical(torch.tensor([0.5,0.5])))\n",
    "    B_probs = torch.tensor([[0.8,0.2],[0.1,0.9]])\n",
    "    B = pyro.sample(\"B\", dist.Categorical(B_probs[A]))\n",
    "    C_probs = torch.tensor([[[0.9,0.1],[0.99,0.01]],[[0.1,0.9],[0.4,0.6]]])\n",
    "    C = pyro.sample(\"C\", dist.Categorical(C_probs[B][A]))"
   ]
  },
  {
   "cell_type": "code",
   "execution_count": 45,
   "metadata": {},
   "outputs": [],
   "source": [
    "#Conditioning model on B=on, C=on\n",
    "\n",
    "conditioned_bn = pyro.condition(bn, data={'B':torch.tensor(1), 'C':torch.tensor(1)})"
   ]
  },
  {
   "cell_type": "code",
   "execution_count": 46,
   "metadata": {},
   "outputs": [],
   "source": [
    "#Inferring A from conditioned\n",
    "\n",
    "posterior = pyro.infer.Importance(conditioned_bn, num_samples=1000).run()\n",
    "marginal = pyro.infer.EmpiricalMarginal(posterior, \"A\")\n",
    "A_samples = np.array([marginal().item() for _ in range(1000)])\n",
    "A_unique, A_counts = np.unique(A_samples,return_counts=True)"
   ]
  },
  {
   "cell_type": "markdown",
   "metadata": {},
   "source": [
    "$P(A = on|B = on, C = on)$"
   ]
  },
  {
   "cell_type": "code",
   "execution_count": 47,
   "metadata": {},
   "outputs": [
    {
     "data": {
      "text/plain": [
       "0.732"
      ]
     },
     "execution_count": 47,
     "metadata": {},
     "output_type": "execute_result"
    }
   ],
   "source": [
    "A_counts[1]/sum(A_counts)"
   ]
  },
  {
   "cell_type": "code",
   "execution_count": 49,
   "metadata": {},
   "outputs": [],
   "source": [
    "new_bn = pyro.condition(pyro.do(bn, data={\"B\":torch.tensor(1)}), data={\"C\":torch.tensor(1)})"
   ]
  },
  {
   "cell_type": "code",
   "execution_count": 50,
   "metadata": {},
   "outputs": [],
   "source": [
    "#Inferring A from intervened model\n",
    "\n",
    "posterior_int = pyro.infer.Importance(new_bn, num_samples=1000).run()\n",
    "marginal_int = pyro.infer.EmpiricalMarginal(posterior_int, \"A\")\n",
    "A_samples_int = np.array([marginal_int().item() for _ in range(1000)])\n",
    "A_unique_int, A_counts_int = np.unique(A_samples_int,return_counts=True)"
   ]
  },
  {
   "cell_type": "markdown",
   "metadata": {},
   "source": [
    "$P(A = on|do(B = on), C = on)$"
   ]
  },
  {
   "cell_type": "code",
   "execution_count": 51,
   "metadata": {},
   "outputs": [
    {
     "data": {
      "text/plain": [
       "0.407"
      ]
     },
     "execution_count": 51,
     "metadata": {},
     "output_type": "execute_result"
    }
   ],
   "source": [
    "A_counts_int[1]/sum(A_counts_int)"
   ]
  }
 ],
 "metadata": {
  "accelerator": "GPU",
  "colab": {
   "collapsed_sections": [],
   "name": "7290 HW2.ipynb",
   "provenance": []
  },
  "kernelspec": {
   "display_name": "R",
   "language": "R",
   "name": "ir"
  },
  "language_info": {
   "codemirror_mode": "r",
   "file_extension": ".r",
   "mimetype": "text/x-r-source",
   "name": "R",
   "pygments_lexer": "r",
   "version": "3.6.2"
  }
 },
 "nbformat": 4,
 "nbformat_minor": 1
}
